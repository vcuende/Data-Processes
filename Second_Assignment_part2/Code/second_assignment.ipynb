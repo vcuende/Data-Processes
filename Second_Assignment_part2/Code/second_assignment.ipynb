{
 "cells": [
  {
   "attachments": {},
   "cell_type": "markdown",
   "metadata": {},
   "source": [
    "## Data Processes: Second Assignment (second part)\n",
    "\n",
    "### Group:\n",
    "Víctor Morcuende Castell, 47315589N\n",
    "\n",
    "Guillermo Nájera Lavid, 70845359T\n",
    "\n",
    "Javier Rocamora García, 20081979N\n",
    "\n",
    "Antonio Ruiz García, 06601574E"
   ]
  },
  {
   "cell_type": "code",
   "execution_count": 1,
   "metadata": {},
   "outputs": [],
   "source": [
    "import tensorflow as tf\n",
    "import pandas as pd\n",
    "import numpy as np\n",
    "import matplotlib.pyplot as plt\n",
    "import seaborn as sns\n",
    "from sklearn.tree import DecisionTreeClassifier\n",
    "from sklearn.model_selection import train_test_split, KFold\n",
    "from sklearn.metrics import confusion_matrix, classification_report\n",
    "from sklearn.ensemble import RandomForestClassifier\n",
    "from imblearn.over_sampling import SMOTE"
   ]
  },
  {
   "cell_type": "markdown",
   "metadata": {},
   "source": [
    "Open Dataset in Pandas Dataframe"
   ]
  },
  {
   "cell_type": "code",
   "execution_count": 2,
   "metadata": {},
   "outputs": [],
   "source": [
    "df = pd.read_csv(\"heart_disease.csv\")\n",
    "target = df.pop('HeartDiseaseorAttack')"
   ]
  },
  {
   "attachments": {},
   "cell_type": "markdown",
   "metadata": {},
   "source": [
    "Neural Networks"
   ]
  },
  {
   "cell_type": "code",
   "execution_count": 3,
   "metadata": {},
   "outputs": [],
   "source": [
    "# Split the data into training and test sets\n",
    "X_train, X_test, y_train, y_test = train_test_split(df, target, test_size=0.2)"
   ]
  },
  {
   "cell_type": "code",
   "execution_count": 4,
   "metadata": {},
   "outputs": [],
   "source": [
    "# Convert the data into a format that can be used by TensorFlow\n",
    "X_train = tf.convert_to_tensor(X_train.values, dtype=tf.float32)\n",
    "y_train = tf.convert_to_tensor(y_train.values, dtype=tf.float32)\n",
    "X_test = tf.convert_to_tensor(X_test.values, dtype=tf.float32)\n",
    "y_test = tf.convert_to_tensor(y_test.values, dtype=tf.float32)"
   ]
  },
  {
   "cell_type": "code",
   "execution_count": 5,
   "metadata": {},
   "outputs": [],
   "source": [
    "# Define the model\n",
    "model = tf.keras.Sequential([\n",
    "    tf.keras.layers.Dense(64, activation='relu', input_shape=(X_train.shape[1],)),\n",
    "    tf.keras.layers.Dense(64, activation='relu'),\n",
    "    tf.keras.layers.Dense(1, activation='sigmoid')\n",
    "])"
   ]
  },
  {
   "cell_type": "code",
   "execution_count": 6,
   "metadata": {},
   "outputs": [],
   "source": [
    "# Compile the model\n",
    "model.compile(optimizer='adam', loss='binary_crossentropy', metrics=['accuracy'])"
   ]
  },
  {
   "cell_type": "code",
   "execution_count": 7,
   "metadata": {},
   "outputs": [
    {
     "name": "stdout",
     "output_type": "stream",
     "text": [
      "Epoch 1/10\n",
      "6342/6342 [==============================] - 17s 2ms/step - loss: 0.2565 - accuracy: 0.9050\n",
      "Epoch 2/10\n",
      "6342/6342 [==============================] - 13s 2ms/step - loss: 0.2458 - accuracy: 0.9069\n",
      "Epoch 3/10\n",
      "6342/6342 [==============================] - 12s 2ms/step - loss: 0.2431 - accuracy: 0.9071\n",
      "Epoch 4/10\n",
      "6342/6342 [==============================] - 12s 2ms/step - loss: 0.2417 - accuracy: 0.9071\n",
      "Epoch 5/10\n",
      "6342/6342 [==============================] - 12s 2ms/step - loss: 0.2409 - accuracy: 0.9072\n",
      "Epoch 6/10\n",
      "6342/6342 [==============================] - 12s 2ms/step - loss: 0.2405 - accuracy: 0.9072\n",
      "Epoch 7/10\n",
      "6342/6342 [==============================] - 14s 2ms/step - loss: 0.2399 - accuracy: 0.9074\n",
      "Epoch 8/10\n",
      "6342/6342 [==============================] - 13s 2ms/step - loss: 0.2398 - accuracy: 0.9076\n",
      "Epoch 9/10\n",
      "6342/6342 [==============================] - 13s 2ms/step - loss: 0.2396 - accuracy: 0.9077\n",
      "Epoch 10/10\n",
      "6342/6342 [==============================] - 13s 2ms/step - loss: 0.2395 - accuracy: 0.9075\n"
     ]
    },
    {
     "data": {
      "text/plain": [
       "<keras.callbacks.History at 0x7fb84666b8b0>"
      ]
     },
     "execution_count": 7,
     "metadata": {},
     "output_type": "execute_result"
    }
   ],
   "source": [
    "# Train the model\n",
    "model.fit(X_train, y_train, epochs=10, batch_size=32)"
   ]
  },
  {
   "cell_type": "code",
   "execution_count": 8,
   "metadata": {},
   "outputs": [
    {
     "name": "stdout",
     "output_type": "stream",
     "text": [
      "1586/1586 [==============================] - 3s 2ms/step - loss: 0.2351 - accuracy: 0.9096\n"
     ]
    }
   ],
   "source": [
    "# Evaluate the model\n",
    "loss, accuracy = model.evaluate(X_test, y_test)"
   ]
  },
  {
   "cell_type": "code",
   "execution_count": 9,
   "metadata": {},
   "outputs": [
    {
     "name": "stdout",
     "output_type": "stream",
     "text": [
      "1586/1586 [==============================] - 2s 1ms/step\n"
     ]
    }
   ],
   "source": [
    "predictions = model.predict(X_test)\n",
    "\n",
    "# Convert the predictions to a binary class\n",
    "predictions = (predictions > 0.5).astype(int)\n",
    "predictions = [pred[0] for pred in predictions]\n",
    "predictions = np.array(predictions)"
   ]
  },
  {
   "cell_type": "code",
   "execution_count": 10,
   "metadata": {},
   "outputs": [
    {
     "name": "stdout",
     "output_type": "stream",
     "text": [
      "Subjects: 50736\n",
      "Actual Healthy Subjects: 46017\n",
      "Actual Sick Subjects: 4719\n",
      "Predicted Healthy Subjects: 50122\n",
      "Predicted Sick Subjects: 614\n"
     ]
    }
   ],
   "source": [
    "# Showing relevant information about the Neural Networks model\n",
    "y_true = y_test.numpy().astype(int)\n",
    "test_acc = sum(predictions == y_true) / len(y_true)\n",
    "Hc = sum(y_true == 0)\n",
    "Sick = sum(y_true == 1)\n",
    "PredHc = sum(predictions == 0)\n",
    "PredSick = sum(predictions == 1)\n",
    "print(\"Subjects:\", len(y_true))\n",
    "print(\"Actual Healthy Subjects:\", Hc)\n",
    "print(\"Actual Sick Subjects:\", Sick)\n",
    "print(\"Predicted Healthy Subjects:\", PredHc)\n",
    "print(\"Predicted Sick Subjects:\", PredSick)"
   ]
  },
  {
   "cell_type": "code",
   "execution_count": 11,
   "metadata": {},
   "outputs": [
    {
     "data": {
      "image/png": "[encoded data removed]",
      "text/plain": [
       "<Figure size 1000x800 with 2 Axes>"
      ]
     },
     "metadata": {},
     "output_type": "display_data"
    },
    {
     "name": "stdout",
     "output_type": "stream",
     "text": [
      "\n",
      "              precision    recall  f1-score   support\n",
      "\n",
      "         0.0       0.91      0.99      0.95     46017\n",
      "         1.0       0.61      0.08      0.14      4719\n",
      "\n",
      "    accuracy                           0.91     50736\n",
      "   macro avg       0.76      0.54      0.55     50736\n",
      "weighted avg       0.89      0.91      0.88     50736\n",
      "\n"
     ]
    }
   ],
   "source": [
    "# Showing the results of the Neural Networks model through a confusion matrix\n",
    "confusion_mtx = tf.math.confusion_matrix(y_test, predictions)\n",
    "matriz = confusion_mtx.numpy()\n",
    "plt.figure(figsize=(10,8))\n",
    "sns.heatmap(confusion_mtx,\n",
    "xticklabels=['Healthy', 'Sick'],\n",
    "yticklabels=['Healthy', 'Sick'],\n",
    "annot=True, fmt='g')\n",
    "plt.xlabel('Prediction')\n",
    "plt.ylabel('Label')\n",
    "plt.show()\n",
    "print()\n",
    "print(classification_report(y_test, predictions))"
   ]
  },
  {
   "attachments": {},
   "cell_type": "markdown",
   "metadata": {},
   "source": [
    "Result: Great Accuracy, High Bias"
   ]
  },
  {
   "attachments": {},
   "cell_type": "markdown",
   "metadata": {},
   "source": [
    "Decision Tree Classifier, with and without K-Folds doubling the weight for Sick label"
   ]
  },
  {
   "cell_type": "code",
   "execution_count": 12,
   "metadata": {},
   "outputs": [],
   "source": [
    "# Create the model\n",
    "model = DecisionTreeClassifier()"
   ]
  },
  {
   "cell_type": "code",
   "execution_count": 13,
   "metadata": {},
   "outputs": [],
   "source": [
    "# Create the KFold object with 5 folds\n",
    "kfold = KFold(n_splits=5, shuffle=True)"
   ]
  },
  {
   "cell_type": "code",
   "execution_count": 14,
   "metadata": {},
   "outputs": [
    {
     "name": "stdout",
     "output_type": "stream",
     "text": [
      "Test score: 0.85\n",
      "Test score: 0.85\n",
      "Test score: 0.85\n",
      "Test score: 0.85\n",
      "Test score: 0.85\n"
     ]
    }
   ],
   "source": [
    "X = df.values\n",
    "y = target.values\n",
    "sample_weight = tf.where(y_train == 1, 2, 1)\n",
    "\n",
    "# Iterate over the folds\n",
    "for train_index, test_index in kfold.split(X):\n",
    "    # Split the data into train and test sets for the current fold\n",
    "    X_train, X_test = X[train_index], X[test_index]\n",
    "    y_train, y_test = y[train_index], y[test_index]\n",
    "\n",
    "    # Train the model on the train set\n",
    "    model.fit(X_train, y_train, sample_weight=sample_weight)\n",
    "\n",
    "    # Evaluate the model on the test set\n",
    "    score = model.score(X_test, y_test)\n",
    "    print(f'Test score: {score:.2f}')"
   ]
  },
  {
   "cell_type": "code",
   "execution_count": 15,
   "metadata": {},
   "outputs": [],
   "source": [
    "# Fit the model to the training data and evaluate it on the test set\n",
    "model.fit(X_train, y_train, sample_weight=sample_weight)\n",
    "y_pred = model.predict(X_test)"
   ]
  },
  {
   "cell_type": "code",
   "execution_count": 16,
   "metadata": {},
   "outputs": [
    {
     "data": {
      "image/png": "[encoded data removed]",
      "text/plain": [
       "<Figure size 1000x800 with 2 Axes>"
      ]
     },
     "metadata": {},
     "output_type": "display_data"
    },
    {
     "name": "stdout",
     "output_type": "stream",
     "text": [
      "\n",
      "              precision    recall  f1-score   support\n",
      "\n",
      "         0.0       0.92      0.91      0.92     46076\n",
      "         1.0       0.22      0.27      0.24      4660\n",
      "\n",
      "    accuracy                           0.85     50736\n",
      "   macro avg       0.57      0.59      0.58     50736\n",
      "weighted avg       0.86      0.85      0.85     50736\n",
      "\n"
     ]
    }
   ],
   "source": [
    "# Showing the results through a confusion matrix of the Decision Tree Classifier model without K-folds and doubling the weight\n",
    "confusion_mtx = tf.math.confusion_matrix(y_test, y_pred)\n",
    "matriz = confusion_mtx.numpy()\n",
    "plt.figure(figsize=(10,8))\n",
    "sns.heatmap(confusion_mtx,\n",
    "xticklabels=['Healthy', 'Sick'],\n",
    "yticklabels=['Healthy', 'Sick'],\n",
    "annot=True, fmt='g')\n",
    "plt.xlabel('Prediction')\n",
    "plt.ylabel('Label')\n",
    "plt.show()\n",
    "print()\n",
    "print(classification_report(y_test, y_pred))"
   ]
  },
  {
   "attachments": {},
   "cell_type": "markdown",
   "metadata": {},
   "source": [
    "Result: Good accuracy and Lower Bias"
   ]
  },
  {
   "attachments": {},
   "cell_type": "markdown",
   "metadata": {},
   "source": [
    "Random Forest Classifier"
   ]
  },
  {
   "cell_type": "code",
   "execution_count": 17,
   "metadata": {},
   "outputs": [],
   "source": [
    "# Train the model\n",
    "model = RandomForestClassifier(n_estimators=100, max_depth=10)"
   ]
  },
  {
   "cell_type": "code",
   "execution_count": 18,
   "metadata": {},
   "outputs": [],
   "source": [
    "# Fit the model to the training data and evaluate it on the test set\n",
    "model.fit(X_train, y_train)\n",
    "y_pred = model.predict(X_test)"
   ]
  },
  {
   "cell_type": "code",
   "execution_count": 19,
   "metadata": {},
   "outputs": [
    {
     "data": {
      "image/png": "[encoded data removed]",
      "text/plain": [
       "<Figure size 1000x800 with 2 Axes>"
      ]
     },
     "metadata": {},
     "output_type": "display_data"
    },
    {
     "name": "stdout",
     "output_type": "stream",
     "text": [
      "\n",
      "              precision    recall  f1-score   support\n",
      "\n",
      "         0.0       0.91      1.00      0.95     46076\n",
      "         1.0       0.64      0.05      0.10      4660\n",
      "\n",
      "    accuracy                           0.91     50736\n",
      "   macro avg       0.78      0.52      0.52     50736\n",
      "weighted avg       0.89      0.91      0.87     50736\n",
      "\n"
     ]
    }
   ],
   "source": [
    "# Showing the results of the Random Forest Classifier through a confusion matrix\n",
    "confusion_mtx = tf.math.confusion_matrix(y_test, y_pred)\n",
    "matriz = confusion_mtx.numpy()\n",
    "plt.figure(figsize=(10,8))\n",
    "sns.heatmap(confusion_mtx,\n",
    "xticklabels=['Healthy', 'Sick'],\n",
    "yticklabels=['Healthy', 'Sick'],\n",
    "annot=True, fmt='g')\n",
    "plt.xlabel('Prediction')\n",
    "plt.ylabel('Label')\n",
    "plt.show()\n",
    "print()\n",
    "print(classification_report(y_test, y_pred))"
   ]
  },
  {
   "attachments": {},
   "cell_type": "markdown",
   "metadata": {},
   "source": [
    "Result: Great Accuracy, High Bias"
   ]
  },
  {
   "attachments": {},
   "cell_type": "markdown",
   "metadata": {},
   "source": [
    "Neural Networks using SMOTE"
   ]
  },
  {
   "cell_type": "code",
   "execution_count": 20,
   "metadata": {},
   "outputs": [],
   "source": [
    "X = df.values\n",
    "y = target.values\n",
    "\n",
    "# Create a SMOTE object\n",
    "smote = SMOTE()\n",
    "\n",
    "# Use the SMOTE object to generate synthetic samples\n",
    "X_resampled, y_resampled = smote.fit_resample(X, y)\n",
    "\n",
    "# Split the resampled dataset into a training set and a test set\n",
    "X_train, X_test, y_train, y_test = train_test_split(X_resampled, y_resampled, test_size=0.2)\n",
    "\n",
    "# Convert the data into a format that can be used by TensorFlow\n",
    "X_train = tf.convert_to_tensor(X_train, dtype=tf.float32)\n",
    "y_train = tf.convert_to_tensor(y_train, dtype=tf.float32)\n",
    "X_test = tf.convert_to_tensor(X_test, dtype=tf.float32)\n",
    "y_test = tf.convert_to_tensor(y_test, dtype=tf.float32)"
   ]
  },
  {
   "cell_type": "code",
   "execution_count": 21,
   "metadata": {},
   "outputs": [],
   "source": [
    "# Define the model\n",
    "model = tf.keras.Sequential([\n",
    "    tf.keras.layers.Dense(64, activation='relu', input_shape=(X_train.shape[1],)),\n",
    "    tf.keras.layers.Dense(64, activation='relu'),\n",
    "    tf.keras.layers.Dense(1, activation='sigmoid')\n",
    "])"
   ]
  },
  {
   "cell_type": "code",
   "execution_count": 22,
   "metadata": {},
   "outputs": [],
   "source": [
    "# Compile the model\n",
    "model.compile(optimizer='adam', loss='binary_crossentropy', metrics=['accuracy'])"
   ]
  },
  {
   "cell_type": "code",
   "execution_count": 23,
   "metadata": {},
   "outputs": [
    {
     "name": "stdout",
     "output_type": "stream",
     "text": [
      "Epoch 1/10\n",
      "11490/11490 [==============================] - 27s 2ms/step - loss: 0.4709 - accuracy: 0.7780\n",
      "Epoch 2/10\n",
      "11490/11490 [==============================] - 25s 2ms/step - loss: 0.4126 - accuracy: 0.8112\n",
      "Epoch 3/10\n",
      "11490/11490 [==============================] - 25s 2ms/step - loss: 0.3611 - accuracy: 0.8350\n",
      "Epoch 4/10\n",
      "11490/11490 [==============================] - 25s 2ms/step - loss: 0.3349 - accuracy: 0.8467\n",
      "Epoch 5/10\n",
      "11490/11490 [==============================] - 25s 2ms/step - loss: 0.3187 - accuracy: 0.8536\n",
      "Epoch 6/10\n",
      "11490/11490 [==============================] - 25s 2ms/step - loss: 0.3058 - accuracy: 0.8598\n",
      "Epoch 7/10\n",
      "11490/11490 [==============================] - 25s 2ms/step - loss: 0.2960 - accuracy: 0.8642\n",
      "Epoch 8/10\n",
      "11490/11490 [==============================] - 25s 2ms/step - loss: 0.2882 - accuracy: 0.8678\n",
      "Epoch 9/10\n",
      "11490/11490 [==============================] - 25s 2ms/step - loss: 0.2823 - accuracy: 0.8706\n",
      "Epoch 10/10\n",
      "11490/11490 [==============================] - 25s 2ms/step - loss: 0.2792 - accuracy: 0.8724\n"
     ]
    },
    {
     "data": {
      "text/plain": [
       "<keras.callbacks.History at 0x7fb835f87220>"
      ]
     },
     "execution_count": 23,
     "metadata": {},
     "output_type": "execute_result"
    }
   ],
   "source": [
    "# Train the model\n",
    "model.fit(X_train, y_train, epochs=10, batch_size=32)"
   ]
  },
  {
   "cell_type": "code",
   "execution_count": 24,
   "metadata": {},
   "outputs": [
    {
     "name": "stdout",
     "output_type": "stream",
     "text": [
      "2873/2873 [==============================] - 7s 2ms/step - loss: 0.2751 - accuracy: 0.8736\n"
     ]
    }
   ],
   "source": [
    "# Evaluate the model\n",
    "loss, accuracy = model.evaluate(X_test, y_test)"
   ]
  },
  {
   "cell_type": "code",
   "execution_count": 25,
   "metadata": {},
   "outputs": [
    {
     "name": "stdout",
     "output_type": "stream",
     "text": [
      "2873/2873 [==============================] - 4s 1ms/step\n"
     ]
    }
   ],
   "source": [
    "predictions = model.predict(X_test)\n",
    "\n",
    "# Convert the predictions to a binary class\n",
    "predictions = (predictions > 0.5).astype(int)\n",
    "predictions = [pred[0] for pred in predictions]\n",
    "predictions = np.array(predictions)"
   ]
  },
  {
   "cell_type": "code",
   "execution_count": 26,
   "metadata": {},
   "outputs": [
    {
     "name": "stdout",
     "output_type": "stream",
     "text": [
      "Subjects: 91915\n",
      "Actual Healthy Subjects: 46075\n",
      "Actual Sick Subjects: 45840\n",
      "Predicted Healthy Subjects: 46830\n",
      "Predicted Sick Subjects: 45085\n"
     ]
    }
   ],
   "source": [
    "# Showing relevant information about the Neural Networks model with SMOTE\n",
    "y_true = y_test.numpy().astype(int)\n",
    "test_acc = sum(predictions == y_true) / len(y_true)\n",
    "Hc = sum(y_true == 0)\n",
    "Sick = sum(y_true == 1)\n",
    "PredHc = sum(predictions == 0)\n",
    "PredSick = sum(predictions == 1)\n",
    "print(\"Subjects:\", len(y_true))\n",
    "print(\"Actual Healthy Subjects:\", Hc)\n",
    "print(\"Actual Sick Subjects:\", Sick)\n",
    "print(\"Predicted Healthy Subjects:\", PredHc)\n",
    "print(\"Predicted Sick Subjects:\", PredSick)"
   ]
  },
  {
   "cell_type": "code",
   "execution_count": 27,
   "metadata": {},
   "outputs": [
    {
     "data": {
      "image/png": "[encoded data removed]",
      "text/plain": [
       "<Figure size 1000x800 with 2 Axes>"
      ]
     },
     "metadata": {},
     "output_type": "display_data"
    },
    {
     "name": "stdout",
     "output_type": "stream",
     "text": [
      "              precision    recall  f1-score   support\n",
      "\n",
      "         0.0       0.87      0.88      0.87     46075\n",
      "         1.0       0.88      0.87      0.87     45840\n",
      "\n",
      "    accuracy                           0.87     91915\n",
      "   macro avg       0.87      0.87      0.87     91915\n",
      "weighted avg       0.87      0.87      0.87     91915\n",
      "\n"
     ]
    }
   ],
   "source": [
    "# Showing the results of the NN model with SMOTE through a confusion matrix\n",
    "confusion_mtx = tf.math.confusion_matrix(y_test, predictions)\n",
    "matriz = confusion_mtx.numpy()\n",
    "plt.figure(figsize=(10,8))\n",
    "sns.heatmap(confusion_mtx,\n",
    "xticklabels=['Healthy', 'Sick'],\n",
    "yticklabels=['Healthy', 'Sick'],\n",
    "annot=True, fmt='g')\n",
    "plt.xlabel('Prediction')\n",
    "plt.ylabel('Label')\n",
    "plt.show()\n",
    "print(classification_report(y_test, predictions))"
   ]
  },
  {
   "attachments": {},
   "cell_type": "markdown",
   "metadata": {},
   "source": [
    "Result: Good Accuracy and Low Bias"
   ]
  },
  {
   "attachments": {},
   "cell_type": "markdown",
   "metadata": {},
   "source": [
    "Decision Tree Classifier using SMOTE"
   ]
  },
  {
   "cell_type": "code",
   "execution_count": 28,
   "metadata": {},
   "outputs": [],
   "source": [
    "X = df.values\n",
    "y = target.values\n",
    "\n",
    "# We create a SMOTE object\n",
    "smote = SMOTE()\n",
    "\n",
    "# Using the SMOTE object to generate synthetic samples\n",
    "X_resampled, y_resampled = smote.fit_resample(X, y)\n",
    "\n",
    "# We split the resampled dataset into a training set and a test set\n",
    "X_train, X_test, y_train, y_test = train_test_split(X_resampled, y_resampled, test_size=0.2)\n",
    "\n",
    "# Converting the data into a format that can be used by TensorFlow\n",
    "X_train = tf.convert_to_tensor(X_train, dtype=tf.float32)\n",
    "y_train = tf.convert_to_tensor(y_train, dtype=tf.float32)\n",
    "X_test = tf.convert_to_tensor(X_test, dtype=tf.float32)\n",
    "y_test = tf.convert_to_tensor(y_test, dtype=tf.float32)"
   ]
  },
  {
   "cell_type": "code",
   "execution_count": 29,
   "metadata": {},
   "outputs": [],
   "source": [
    "# We create the model\n",
    "model = DecisionTreeClassifier()"
   ]
  },
  {
   "cell_type": "code",
   "execution_count": 30,
   "metadata": {},
   "outputs": [],
   "source": [
    "# We fit the model to the training data and evaluate it on the test set\n",
    "model.fit(X_train, y_train)\n",
    "y_pred = model.predict(X_test)"
   ]
  },
  {
   "cell_type": "code",
   "execution_count": 31,
   "metadata": {},
   "outputs": [
    {
     "data": {
      "image/png": "[encoded data removed]",
      "text/plain": [
       "<Figure size 1000x800 with 2 Axes>"
      ]
     },
     "metadata": {},
     "output_type": "display_data"
    },
    {
     "name": "stdout",
     "output_type": "stream",
     "text": [
      "              precision    recall  f1-score   support\n",
      "\n",
      "         0.0       0.92      0.91      0.92     45956\n",
      "         1.0       0.91      0.92      0.92     45959\n",
      "\n",
      "    accuracy                           0.92     91915\n",
      "   macro avg       0.92      0.92      0.92     91915\n",
      "weighted avg       0.92      0.92      0.92     91915\n",
      "\n"
     ]
    }
   ],
   "source": [
    "# Showing the results of the Decision Tree Classifier with SMOTE through a confusion matrix\n",
    "confusion_mtx = tf.math.confusion_matrix(y_test, y_pred)\n",
    "matriz = confusion_mtx.numpy()\n",
    "plt.figure(figsize=(10,8))\n",
    "sns.heatmap(confusion_mtx,\n",
    "xticklabels=['Healthy', 'Sick'],\n",
    "yticklabels=['Healthy', 'Sick'],\n",
    "annot=True, fmt='g')\n",
    "plt.xlabel('Prediction')\n",
    "plt.ylabel('Label')\n",
    "plt.show()\n",
    "print(classification_report(y_test, y_pred))"
   ]
  },
  {
   "attachments": {},
   "cell_type": "markdown",
   "metadata": {},
   "source": [
    "Result: Great Accuracy and Low Bias"
   ]
  },
  {
   "cell_type": "code",
   "execution_count": 32,
   "metadata": {},
   "outputs": [
    {
     "name": "stdout",
     "output_type": "stream",
     "text": [
      "Recall: 0.92\n",
      "1 - Recall: 0.08\n",
      "\n",
      "Specificity: 0.91\n",
      "1 - Specificity: 0.09\n",
      "\n",
      "Actual total cost of the national healthcare system: 1194650000.00\n",
      "Desired total cost: 955720000.00\n",
      "Cost amount that needs to be reduced: 238930000.00\n",
      "\n",
      "Cost of sick labelled and truly sick subjects that did not accept the plan: 165492258.10\n",
      "\n",
      "Cost of healthy labelled and truly sick subjects: 91368279.34\n",
      "\n",
      "Cost of sick labelled and truly healthy subjects that accepted the plan: 17888794.95\n",
      "\n",
      "Adherence percentage needed to reduce the cost by 20 percent: 39.18073\n",
      "\n",
      "Cost of sick labelled and truly sick subjects that accepted the plan, adhered to it and succeeded: 5511491.69\n",
      "\n",
      "Cost of sick labelled and truly sick subjects that accepted the plan, adhered to it and did not succeed: 93695358.79\n",
      "\n",
      "Cost of sick labelled and truly sick subjects that accepted the plan and did not adhere to it: 581763816.67\n",
      "\n",
      "Predicted total cost: 955719999.53\n",
      "\n",
      "Balance: 0.47\n"
     ]
    }
   ],
   "source": [
    "# We calculate the evaluation metrics and store them in a dictionary\n",
    "eval_metrics = classification_report(y_test, y_pred, output_dict=True)\n",
    "\n",
    "# We use the actual number of sick and healthy people given in the dataset\n",
    "healthy = len(target)-target.sum()\n",
    "sick = target.sum()\n",
    "\n",
    "# We calculate the recall, 1-recall, specificity and 1-specificity values\n",
    "recall = eval_metrics['1.0']['recall']\n",
    "print(\"Recall: %.2f\" % recall)\n",
    "nonRecall = 1 - recall\n",
    "print(\"1 - Recall: %.2f\" % nonRecall)\n",
    "print()\n",
    "\n",
    "specificity = eval_metrics['0.0']['recall']\n",
    "print(\"Specificity: %.2f\" % specificity)\n",
    "nonSpecificity = 1 - specificity\n",
    "print(\"1 - Specificity: %.2f\" % nonSpecificity)\n",
    "print()\n",
    "\n",
    "# Fixed values\n",
    "accept = 0.85\n",
    "notAccept = 1 - accept\n",
    "plan = 1000\n",
    "treatment = 50000\n",
    "success = 0.75\n",
    "notSuccess = 1 - success\n",
    "\n",
    "# We calculate the hypothetical cost of the national healthcare system\n",
    "actualCost = sick * treatment\n",
    "print(\"Actual total cost of the national healthcare system: %.2f\" % actualCost)\n",
    "desiredCost = actualCost * 0.8\n",
    "print(\"Desired total cost: %.2f\" % desiredCost)\n",
    "reducedCost = actualCost - desiredCost\n",
    "print(\"Cost amount that needs to be reduced: %.2f\" % reducedCost)\n",
    "print()\n",
    "\n",
    "# We calculate the cost of those subjects which are labelled as sick and are truly sick\n",
    "costR_notAccept = sick * recall * notAccept * treatment\n",
    "print(\"Cost of sick labelled and truly sick subjects that did not accept the plan: %.2f\" % costR_notAccept)\n",
    "print()\n",
    "\n",
    "# We calculate the cost of those subjects which are labelled as healthy but are truly sick\n",
    "costNR = sick * nonRecall * treatment\n",
    "print(\"Cost of healthy labelled and truly sick subjects: %.2f\" % costNR)\n",
    "print()\n",
    "\n",
    "# We calculate the cost of those subjects which are labelled as sick but are truly healthy\n",
    "costNS_accept = healthy * nonSpecificity * accept * plan\n",
    "print(\"Cost of sick labelled and truly healthy subjects that accepted the plan: %.2f\" % costNS_accept)\n",
    "print()\n",
    "\n",
    "predCost = actualCost\n",
    "adhere = 0\n",
    "\n",
    "while (desiredCost - predCost < 0):\n",
    "  notAdhere = 1 - adhere\n",
    "  costR_accept_adhere_success = sick * recall * accept * adhere * success * plan\n",
    "  costR_accept_adhere_notSuccess = sick * recall * accept * adhere * notSuccess * (plan + treatment)\n",
    "  costR_accept_notAdhere = sick * recall * accept * notAdhere * (plan + treatment)\n",
    "  predCost = costR_accept_adhere_success + costR_accept_adhere_notSuccess + costR_accept_notAdhere + costR_notAccept + costNR + costNS_accept\n",
    "  adhere = adhere + 0.000000001\n",
    "\n",
    "print(\"Adherence percentage needed to reduce the cost by 20 percent: %.5f\" % (adhere*100))\n",
    "print()\n",
    "\n",
    "print(\"Cost of sick labelled and truly sick subjects that accepted the plan, adhered to it and succeeded: %.2f\" % costR_accept_adhere_success)\n",
    "print()\n",
    "\n",
    "print(\"Cost of sick labelled and truly sick subjects that accepted the plan, adhered to it and did not succeed: %.2f\" % costR_accept_adhere_notSuccess)\n",
    "print()\n",
    "\n",
    "print(\"Cost of sick labelled and truly sick subjects that accepted the plan and did not adhere to it: %.2f\" % costR_accept_notAdhere)\n",
    "print()\n",
    " \n",
    "print(\"Predicted total cost: %.2f\" % predCost)\n",
    "print()\n",
    "\n",
    "balance = desiredCost - predCost \n",
    "print(\"Balance: %.2f\" % balance)"
   ]
  }
 ],
 "metadata": {
  "kernelspec": {
   "display_name": "Python 3.9.13 64-bit",
   "language": "python",
   "name": "python3"
  },
  "language_info": {
   "codemirror_mode": {
    "name": "ipython",
    "version": 3
   },
   "file_extension": ".py",
   "mimetype": "text/x-python",
   "name": "python",
   "nbconvert_exporter": "python",
   "pygments_lexer": "ipython3",
   "version": "3.9.13"
  },
  "orig_nbformat": 4,
  "vscode": {
   "interpreter": {
    "hash": "aee8b7b246df8f9039afb4144a1f6fd8d2ca17a180786b69acc140d282b71a49"
   }
  }
 },
 "nbformat": 4,
 "nbformat_minor": 2
}
